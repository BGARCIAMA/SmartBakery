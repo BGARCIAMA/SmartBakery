{
 "cells": [
  {
   "cell_type": "code",
   "execution_count": 1,
   "id": "2a12a519-ab8f-4f04-9855-5d08d050ba72",
   "metadata": {},
   "outputs": [],
   "source": [
    "import pandas as pd\n",
    "import numpy as np\n",
    "import seaborn as sns\n",
    "import matplotlib.pylab as plt\n",
    "import plotly.express as px\n",
    "plt.style.use('fivethirtyeight')\n",
    "import boto3"
   ]
  },
  {
   "cell_type": "code",
   "execution_count": null,
   "id": "b0351713-c491-4c63-b11b-4b48ca976a4f",
   "metadata": {},
   "outputs": [
    {
     "data": {
      "text/html": [
       "<div>\n",
       "<style scoped>\n",
       "    .dataframe tbody tr th:only-of-type {\n",
       "        vertical-align: middle;\n",
       "    }\n",
       "\n",
       "    .dataframe tbody tr th {\n",
       "        vertical-align: top;\n",
       "    }\n",
       "\n",
       "    .dataframe thead th {\n",
       "        text-align: right;\n",
       "    }\n",
       "</style>\n",
       "<table border=\"1\" class=\"dataframe\">\n",
       "  <thead>\n",
       "    <tr style=\"text-align: right;\">\n",
       "      <th></th>\n",
       "      <th>date</th>\n",
       "      <th>time</th>\n",
       "      <th>ticket_number</th>\n",
       "      <th>article</th>\n",
       "      <th>Quantity</th>\n",
       "      <th>unit_price</th>\n",
       "    </tr>\n",
       "  </thead>\n",
       "  <tbody>\n",
       "    <tr>\n",
       "      <th>0</th>\n",
       "      <td>2021-01-02</td>\n",
       "      <td>08:38</td>\n",
       "      <td>150040.0</td>\n",
       "      <td>BAGUETTE</td>\n",
       "      <td>1.0</td>\n",
       "      <td>0,90 €</td>\n",
       "    </tr>\n",
       "    <tr>\n",
       "      <th>1</th>\n",
       "      <td>2021-01-02</td>\n",
       "      <td>08:38</td>\n",
       "      <td>150040.0</td>\n",
       "      <td>PAIN AU CHOCOLAT</td>\n",
       "      <td>3.0</td>\n",
       "      <td>1,20 €</td>\n",
       "    </tr>\n",
       "    <tr>\n",
       "      <th>4</th>\n",
       "      <td>2021-01-02</td>\n",
       "      <td>09:14</td>\n",
       "      <td>150041.0</td>\n",
       "      <td>PAIN AU CHOCOLAT</td>\n",
       "      <td>2.0</td>\n",
       "      <td>1,20 €</td>\n",
       "    </tr>\n",
       "    <tr>\n",
       "      <th>5</th>\n",
       "      <td>2021-01-02</td>\n",
       "      <td>09:14</td>\n",
       "      <td>150041.0</td>\n",
       "      <td>PAIN</td>\n",
       "      <td>1.0</td>\n",
       "      <td>1,15 €</td>\n",
       "    </tr>\n",
       "    <tr>\n",
       "      <th>8</th>\n",
       "      <td>2021-01-02</td>\n",
       "      <td>09:25</td>\n",
       "      <td>150042.0</td>\n",
       "      <td>TRADITIONAL BAGUETTE</td>\n",
       "      <td>5.0</td>\n",
       "      <td>1,20 €</td>\n",
       "    </tr>\n",
       "  </tbody>\n",
       "</table>\n",
       "</div>"
      ],
      "text/plain": [
       "         date   time  ticket_number               article  Quantity unit_price\n",
       "0  2021-01-02  08:38       150040.0              BAGUETTE       1.0     0,90 €\n",
       "1  2021-01-02  08:38       150040.0      PAIN AU CHOCOLAT       3.0     1,20 €\n",
       "4  2021-01-02  09:14       150041.0      PAIN AU CHOCOLAT       2.0     1,20 €\n",
       "5  2021-01-02  09:14       150041.0                  PAIN       1.0     1,15 €\n",
       "8  2021-01-02  09:25       150042.0  TRADITIONAL BAGUETTE       5.0     1,20 €"
      ]
     },
     "execution_count": 2,
     "metadata": {},
     "output_type": "execute_result"
    }
   ],
   "source": [
    "# ***Aquí se puede poner el archivo como variable\n",
    "df_raw = pd.read_csv('./raw_data/Bakery_sales.csv', index_col=0)\n",
    "df_raw.head()"
   ]
  },
  {
   "cell_type": "code",
   "execution_count": null,
   "id": "8ea52411-19be-4fb1-8ec2-0328b0e25505",
   "metadata": {},
   "outputs": [
    {
     "data": {
      "text/plain": [
       "(234005, 6)"
      ]
     },
     "execution_count": 3,
     "metadata": {},
     "output_type": "execute_result"
    }
   ],
   "source": [
    "df_raw.shape"
   ]
  },
  {
   "cell_type": "code",
   "execution_count": null,
   "id": "9371be45-bbac-4098-9cf7-2d3bbfe3aee3",
   "metadata": {},
   "outputs": [
    {
     "name": "stdout",
     "output_type": "stream",
     "text": [
      "<class 'pandas.core.frame.DataFrame'>\n",
      "Index: 234005 entries, 0 to 511395\n",
      "Data columns (total 6 columns):\n",
      " #   Column         Non-Null Count   Dtype  \n",
      "---  ------         --------------   -----  \n",
      " 0   date           234005 non-null  object \n",
      " 1   time           234005 non-null  object \n",
      " 2   ticket_number  234005 non-null  float64\n",
      " 3   article        234005 non-null  object \n",
      " 4   Quantity       234005 non-null  float64\n",
      " 5   unit_price     234005 non-null  object \n",
      "dtypes: float64(2), object(4)\n",
      "memory usage: 12.5+ MB\n"
     ]
    }
   ],
   "source": [
    "df_raw.info()"
   ]
  },
  {
   "cell_type": "code",
   "execution_count": null,
   "id": "f054b527-da33-4eab-9f2c-4431f8e20a4f",
   "metadata": {},
   "outputs": [
    {
     "data": {
      "text/plain": [
       "date             0\n",
       "time             0\n",
       "ticket_number    0\n",
       "article          0\n",
       "Quantity         0\n",
       "unit_price       0\n",
       "dtype: int64"
      ]
     },
     "execution_count": 5,
     "metadata": {},
     "output_type": "execute_result"
    }
   ],
   "source": [
    "# Nulos por columna\n",
    "df_raw.isna().sum()"
   ]
  },
  {
   "cell_type": "code",
   "execution_count": null,
   "id": "271041fa-2b9e-4e67-b32f-3bf12e47eee4",
   "metadata": {},
   "outputs": [
    {
     "data": {
      "text/plain": [
       "1210"
      ]
     },
     "execution_count": 7,
     "metadata": {},
     "output_type": "execute_result"
    }
   ],
   "source": [
    "# Duplicados\n",
    "df_raw.duplicated().sum()"
   ]
  },
  {
   "cell_type": "code",
   "execution_count": null,
   "id": "998b9a53-fe13-48ce-8f2b-90ee7f23c1ab",
   "metadata": {},
   "outputs": [
    {
     "data": {
      "text/plain": [
       "(232795, 6)"
      ]
     },
     "execution_count": 9,
     "metadata": {},
     "output_type": "execute_result"
    }
   ],
   "source": [
    "# Elimina duplicados\n",
    "df_raw = df_raw.drop_duplicates()\n",
    "df_raw.shape"
   ]
  },
  {
   "cell_type": "code",
   "execution_count": null,
   "id": "28520703-054a-4e79-b718-ee03a9fb23ff",
   "metadata": {},
   "outputs": [
    {
     "data": {
      "text/html": [
       "<div>\n",
       "<style scoped>\n",
       "    .dataframe tbody tr th:only-of-type {\n",
       "        vertical-align: middle;\n",
       "    }\n",
       "\n",
       "    .dataframe tbody tr th {\n",
       "        vertical-align: top;\n",
       "    }\n",
       "\n",
       "    .dataframe thead th {\n",
       "        text-align: right;\n",
       "    }\n",
       "</style>\n",
       "<table border=\"1\" class=\"dataframe\">\n",
       "  <thead>\n",
       "    <tr style=\"text-align: right;\">\n",
       "      <th></th>\n",
       "      <th>Date</th>\n",
       "      <th>Time</th>\n",
       "      <th>Transaction_id</th>\n",
       "      <th>Menu</th>\n",
       "      <th>Quantity</th>\n",
       "      <th>Price</th>\n",
       "    </tr>\n",
       "  </thead>\n",
       "  <tbody>\n",
       "    <tr>\n",
       "      <th>0</th>\n",
       "      <td>2021-01-02</td>\n",
       "      <td>08:38</td>\n",
       "      <td>150040</td>\n",
       "      <td>Baguette</td>\n",
       "      <td>1</td>\n",
       "      <td>0.90</td>\n",
       "    </tr>\n",
       "    <tr>\n",
       "      <th>1</th>\n",
       "      <td>2021-01-02</td>\n",
       "      <td>08:38</td>\n",
       "      <td>150040</td>\n",
       "      <td>Pain Au Chocolat</td>\n",
       "      <td>3</td>\n",
       "      <td>1.20</td>\n",
       "    </tr>\n",
       "    <tr>\n",
       "      <th>4</th>\n",
       "      <td>2021-01-02</td>\n",
       "      <td>09:14</td>\n",
       "      <td>150041</td>\n",
       "      <td>Pain Au Chocolat</td>\n",
       "      <td>2</td>\n",
       "      <td>1.20</td>\n",
       "    </tr>\n",
       "    <tr>\n",
       "      <th>5</th>\n",
       "      <td>2021-01-02</td>\n",
       "      <td>09:14</td>\n",
       "      <td>150041</td>\n",
       "      <td>Pain</td>\n",
       "      <td>1</td>\n",
       "      <td>1.15</td>\n",
       "    </tr>\n",
       "    <tr>\n",
       "      <th>8</th>\n",
       "      <td>2021-01-02</td>\n",
       "      <td>09:25</td>\n",
       "      <td>150042</td>\n",
       "      <td>Traditional Baguette</td>\n",
       "      <td>5</td>\n",
       "      <td>1.20</td>\n",
       "    </tr>\n",
       "  </tbody>\n",
       "</table>\n",
       "</div>"
      ],
      "text/plain": [
       "         Date   Time  Transaction_id                  Menu  Quantity  Price\n",
       "0  2021-01-02  08:38          150040              Baguette         1   0.90\n",
       "1  2021-01-02  08:38          150040      Pain Au Chocolat         3   1.20\n",
       "4  2021-01-02  09:14          150041      Pain Au Chocolat         2   1.20\n",
       "5  2021-01-02  09:14          150041                  Pain         1   1.15\n",
       "8  2021-01-02  09:25          150042  Traditional Baguette         5   1.20"
      ]
     },
     "execution_count": 15,
     "metadata": {},
     "output_type": "execute_result"
    }
   ],
   "source": [
    "# Renombra columnas\n",
    "df_raw = df_raw.rename(columns = {'date' : 'Date',\n",
    "                         'time' : 'Time',\n",
    "                          'ticket_number' : 'Transaction_id',\n",
    "                          'article' : 'Menu',\n",
    "                          'unit_price' : 'Price'})\n",
    "\n",
    "# Convierte 'Menu' a mayúsculas y minúsculas\n",
    "df_raw['Menu'] = df_raw['Menu'].str.title()\n",
    "\n",
    "# Arregla formato de valores 'Quantity' y 'Price'\n",
    "df_raw = df_raw.replace(to_replace = {'Quantity' : {'.' : ' '}, # np.NaN\n",
    "                              'Price' : {'€' : ' ' , ',' : '.' }}, regex=True)\n",
    "\n",
    "# Convierte tipos de dato de 'Quantity', 'Price', 'Menu' y 'Transaction_id'\n",
    "df_raw = df_raw.astype({'Quantity' : 'int', \n",
    "                'Price' : 'float', \n",
    "                'Transaction_id' : 'int',\n",
    "                'Menu' : 'str'})\n",
    "\n",
    "df_raw.head()"
   ]
  },
  {
   "cell_type": "code",
   "execution_count": null,
   "id": "562823af-f5b9-4b87-8654-33b0f9d74819",
   "metadata": {},
   "outputs": [],
   "source": [
    "# Crea columna 'Revenue'\n",
    "df_raw['Revenue'] = df_raw['Quantity'] * df_raw['Price']"
   ]
  },
  {
   "cell_type": "code",
   "execution_count": null,
   "id": "c7ce3534-d5ac-4476-a78e-a1e55b8fb626",
   "metadata": {},
   "outputs": [
    {
     "data": {
      "text/html": [
       "<div>\n",
       "<style scoped>\n",
       "    .dataframe tbody tr th:only-of-type {\n",
       "        vertical-align: middle;\n",
       "    }\n",
       "\n",
       "    .dataframe tbody tr th {\n",
       "        vertical-align: top;\n",
       "    }\n",
       "\n",
       "    .dataframe thead th {\n",
       "        text-align: right;\n",
       "    }\n",
       "</style>\n",
       "<table border=\"1\" class=\"dataframe\">\n",
       "  <thead>\n",
       "    <tr style=\"text-align: right;\">\n",
       "      <th></th>\n",
       "      <th>Date</th>\n",
       "      <th>Time</th>\n",
       "      <th>Transaction_id</th>\n",
       "      <th>Menu</th>\n",
       "      <th>Quantity</th>\n",
       "      <th>Price</th>\n",
       "      <th>Revenue</th>\n",
       "      <th>Week_day</th>\n",
       "      <th>Day</th>\n",
       "      <th>Year</th>\n",
       "      <th>Month</th>\n",
       "      <th>Quarter</th>\n",
       "    </tr>\n",
       "  </thead>\n",
       "  <tbody>\n",
       "    <tr>\n",
       "      <th>0</th>\n",
       "      <td>2021-01-02</td>\n",
       "      <td>08:38</td>\n",
       "      <td>150040</td>\n",
       "      <td>Baguette</td>\n",
       "      <td>1</td>\n",
       "      <td>0.9</td>\n",
       "      <td>0.9</td>\n",
       "      <td>Saturday</td>\n",
       "      <td>2</td>\n",
       "      <td>2021</td>\n",
       "      <td>2021-01</td>\n",
       "      <td>2021Q1</td>\n",
       "    </tr>\n",
       "  </tbody>\n",
       "</table>\n",
       "</div>"
      ],
      "text/plain": [
       "        Date   Time  Transaction_id      Menu  Quantity  Price  Revenue  \\\n",
       "0 2021-01-02  08:38          150040  Baguette         1    0.9      0.9   \n",
       "\n",
       "   Week_day  Day  Year    Month Quarter  \n",
       "0  Saturday    2  2021  2021-01  2021Q1  "
      ]
     },
     "execution_count": 20,
     "metadata": {},
     "output_type": "execute_result"
    }
   ],
   "source": [
    "# Cambia Date a datetime\n",
    "df_raw['Date'] = pd.to_datetime(df_raw['Date'])\n",
    "\n",
    "# Separa 'Date' en 'Week_day', 'Day', Month' y 'Year'\n",
    "df_raw['Week_day'] = df_raw['Date'].dt.weekday\n",
    "df_raw['Day'] = df_raw['Date'].dt.day\n",
    "df_raw['Year'] = df_raw['Date'].dt.year\n",
    "df_raw['Month'] = df_raw['Date'].dt.to_period('M')\n",
    "df_raw['Quarter'] = df_raw['Date'].dt.to_period('Q')\n",
    "\n",
    "# 'Week_day' en nombres de días y 'Month' a nombres de meses\n",
    "df_raw = df_raw.replace(to_replace = {'Week_day' : {0 : 'Monday', 1 : 'Tuesday', 2 : 'Wednesday',\n",
    "                                            3 : 'Thursday', 4 : 'Friday', 5 : 'Saturday',\n",
    "                                            6 : 'Sunday'}}, regex=True)\n",
    "\n",
    "df_raw.head(1)"
   ]
  },
  {
   "cell_type": "code",
   "execution_count": null,
   "id": "69b78dc5-245e-4e40-a7f3-ac75ab659e60",
   "metadata": {},
   "outputs": [
    {
     "data": {
      "text/plain": [
       "Date              datetime64[ns]\n",
       "Time                      object\n",
       "Transaction_id             int64\n",
       "Menu                      object\n",
       "Quantity                   int64\n",
       "Price                    float64\n",
       "Revenue                  float64\n",
       "Week_day                  object\n",
       "Day                        int32\n",
       "Year                       int32\n",
       "Month                  period[M]\n",
       "Quarter            period[Q-DEC]\n",
       "dtype: object"
      ]
     },
     "execution_count": 21,
     "metadata": {},
     "output_type": "execute_result"
    }
   ],
   "source": [
    "df_raw.dtypes "
   ]
  },
  {
   "cell_type": "code",
   "execution_count": null,
   "id": "a9c77d5e-b89a-4005-8448-5ac092488048",
   "metadata": {},
   "outputs": [
    {
     "name": "stderr",
     "output_type": "stream",
     "text": [
      "/var/folders/mn/vp70xqd126nc7g0318l132mh0000gp/T/ipykernel_73711/3584091815.py:2: UserWarning: Could not infer format, so each element will be parsed individually, falling back to `dateutil`. To ensure parsing is consistent and as-expected, please specify a format.\n",
      "  df_raw['Day_time'] = pd.to_datetime(df_raw['Time']).dt.hour\n"
     ]
    },
    {
     "data": {
      "text/plain": [
       "array([ 8,  9, 10, 11, 12, 13, 14, 17, 18, 19,  7, 16, 15, 20],\n",
       "      dtype=int32)"
      ]
     },
     "execution_count": 23,
     "metadata": {},
     "output_type": "execute_result"
    }
   ],
   "source": [
    "# Separa 'Time' y la convierte en datetime\n",
    "df_raw['Day_time'] = pd.to_datetime(df_raw['Time']).dt.hour\n",
    "df_raw['Day_time'].unique()"
   ]
  },
  {
   "cell_type": "code",
   "execution_count": null,
   "id": "ef486ec1-e320-4bc4-8f42-ea479defc5a4",
   "metadata": {},
   "outputs": [
    {
     "data": {
      "text/html": [
       "<div>\n",
       "<style scoped>\n",
       "    .dataframe tbody tr th:only-of-type {\n",
       "        vertical-align: middle;\n",
       "    }\n",
       "\n",
       "    .dataframe tbody tr th {\n",
       "        vertical-align: top;\n",
       "    }\n",
       "\n",
       "    .dataframe thead th {\n",
       "        text-align: right;\n",
       "    }\n",
       "</style>\n",
       "<table border=\"1\" class=\"dataframe\">\n",
       "  <thead>\n",
       "    <tr style=\"text-align: right;\">\n",
       "      <th></th>\n",
       "      <th>Date</th>\n",
       "      <th>Time</th>\n",
       "      <th>Transaction_id</th>\n",
       "      <th>Menu</th>\n",
       "      <th>Quantity</th>\n",
       "      <th>Price</th>\n",
       "      <th>Revenue</th>\n",
       "      <th>Week_day</th>\n",
       "      <th>Day</th>\n",
       "      <th>Year</th>\n",
       "      <th>Month</th>\n",
       "      <th>Quarter</th>\n",
       "      <th>Day_time</th>\n",
       "    </tr>\n",
       "  </thead>\n",
       "  <tbody>\n",
       "    <tr>\n",
       "      <th>0</th>\n",
       "      <td>2021-01-02</td>\n",
       "      <td>08:38</td>\n",
       "      <td>150040</td>\n",
       "      <td>Baguette</td>\n",
       "      <td>1</td>\n",
       "      <td>0.9</td>\n",
       "      <td>0.9</td>\n",
       "      <td>Saturday</td>\n",
       "      <td>2</td>\n",
       "      <td>2021</td>\n",
       "      <td>2021-01</td>\n",
       "      <td>2021Q1</td>\n",
       "      <td>Morning</td>\n",
       "    </tr>\n",
       "  </tbody>\n",
       "</table>\n",
       "</div>"
      ],
      "text/plain": [
       "        Date   Time  Transaction_id      Menu  Quantity  Price  Revenue  \\\n",
       "0 2021-01-02  08:38          150040  Baguette         1    0.9      0.9   \n",
       "\n",
       "   Week_day  Day  Year    Month Quarter Day_time  \n",
       "0  Saturday    2  2021  2021-01  2021Q1  Morning  "
      ]
     },
     "execution_count": 24,
     "metadata": {},
     "output_type": "execute_result"
    }
   ],
   "source": [
    "# Crea función from hour to day time\n",
    "def day_time (Day_time):\n",
    "    if Day_time < 12:\n",
    "        return 'Morning'\n",
    "    elif Day_time < 17:\n",
    "        return 'Afternoon'\n",
    "    else:\n",
    "        return 'Evening'\n",
    "    \n",
    "# Apply function to the new column    \n",
    "df_raw['Day_time'] = df_raw.Day_time.apply(day_time)\n",
    "df_raw.head(1)"
   ]
  },
  {
   "cell_type": "code",
   "execution_count": null,
   "id": "f3938abe-06b1-48fe-a60e-bce1440e63d3",
   "metadata": {},
   "outputs": [],
   "source": [
    "# Ordena columnas para visualización\n",
    "df_raw.sort_values(by=['Menu', 'Quantity', 'Price', 'Revenue'])"
   ]
  },
  {
   "cell_type": "code",
   "execution_count": null,
   "id": "91aa0576-7437-44da-8ae5-f5b849b18134",
   "metadata": {},
   "outputs": [
    {
     "data": {
      "text/plain": [
       "(232763, 13)"
      ]
     },
     "execution_count": 26,
     "metadata": {},
     "output_type": "execute_result"
    }
   ],
   "source": [
    "# Elimina valores '.' y 0 en 'Price'\n",
    "df_raw = df_raw[~df_raw['Menu'].isin(['.'])].reset_index(drop = True)\n",
    "df_raw = df_raw[~df_raw['Price'].isin([0])].reset_index(drop = True)\n",
    "df_raw.shape"
   ]
  },
  {
   "cell_type": "code",
   "execution_count": null,
   "id": "27f1ee92-f9dd-4b8f-884f-a9f8eb691794",
   "metadata": {},
   "outputs": [
    {
     "data": {
      "text/html": [
       "<div>\n",
       "<style scoped>\n",
       "    .dataframe tbody tr th:only-of-type {\n",
       "        vertical-align: middle;\n",
       "    }\n",
       "\n",
       "    .dataframe tbody tr th {\n",
       "        vertical-align: top;\n",
       "    }\n",
       "\n",
       "    .dataframe thead th {\n",
       "        text-align: right;\n",
       "    }\n",
       "</style>\n",
       "<table border=\"1\" class=\"dataframe\">\n",
       "  <thead>\n",
       "    <tr style=\"text-align: right;\">\n",
       "      <th></th>\n",
       "      <th>Date</th>\n",
       "      <th>Time</th>\n",
       "      <th>Transaction_id</th>\n",
       "      <th>Menu</th>\n",
       "      <th>Quantity</th>\n",
       "      <th>Price</th>\n",
       "      <th>Revenue</th>\n",
       "      <th>Week_day</th>\n",
       "      <th>Day</th>\n",
       "      <th>Year</th>\n",
       "      <th>Month</th>\n",
       "      <th>Quarter</th>\n",
       "      <th>Day_time</th>\n",
       "    </tr>\n",
       "  </thead>\n",
       "  <tbody>\n",
       "    <tr>\n",
       "      <th>0</th>\n",
       "      <td>2021-01-02</td>\n",
       "      <td>08:38</td>\n",
       "      <td>150040</td>\n",
       "      <td>Baguette</td>\n",
       "      <td>1</td>\n",
       "      <td>0.90</td>\n",
       "      <td>0.90</td>\n",
       "      <td>Saturday</td>\n",
       "      <td>2</td>\n",
       "      <td>2021</td>\n",
       "      <td>2021-01</td>\n",
       "      <td>2021Q1</td>\n",
       "      <td>Morning</td>\n",
       "    </tr>\n",
       "    <tr>\n",
       "      <th>1</th>\n",
       "      <td>2021-01-02</td>\n",
       "      <td>08:38</td>\n",
       "      <td>150040</td>\n",
       "      <td>Pain Au Chocolat</td>\n",
       "      <td>3</td>\n",
       "      <td>1.20</td>\n",
       "      <td>3.60</td>\n",
       "      <td>Saturday</td>\n",
       "      <td>2</td>\n",
       "      <td>2021</td>\n",
       "      <td>2021-01</td>\n",
       "      <td>2021Q1</td>\n",
       "      <td>Morning</td>\n",
       "    </tr>\n",
       "    <tr>\n",
       "      <th>2</th>\n",
       "      <td>2021-01-02</td>\n",
       "      <td>09:14</td>\n",
       "      <td>150041</td>\n",
       "      <td>Pain Au Chocolat</td>\n",
       "      <td>2</td>\n",
       "      <td>1.20</td>\n",
       "      <td>2.40</td>\n",
       "      <td>Saturday</td>\n",
       "      <td>2</td>\n",
       "      <td>2021</td>\n",
       "      <td>2021-01</td>\n",
       "      <td>2021Q1</td>\n",
       "      <td>Morning</td>\n",
       "    </tr>\n",
       "    <tr>\n",
       "      <th>3</th>\n",
       "      <td>2021-01-02</td>\n",
       "      <td>09:14</td>\n",
       "      <td>150041</td>\n",
       "      <td>Pain</td>\n",
       "      <td>1</td>\n",
       "      <td>1.15</td>\n",
       "      <td>1.15</td>\n",
       "      <td>Saturday</td>\n",
       "      <td>2</td>\n",
       "      <td>2021</td>\n",
       "      <td>2021-01</td>\n",
       "      <td>2021Q1</td>\n",
       "      <td>Morning</td>\n",
       "    </tr>\n",
       "    <tr>\n",
       "      <th>4</th>\n",
       "      <td>2021-01-02</td>\n",
       "      <td>09:25</td>\n",
       "      <td>150042</td>\n",
       "      <td>Traditional Baguette</td>\n",
       "      <td>5</td>\n",
       "      <td>1.20</td>\n",
       "      <td>6.00</td>\n",
       "      <td>Saturday</td>\n",
       "      <td>2</td>\n",
       "      <td>2021</td>\n",
       "      <td>2021-01</td>\n",
       "      <td>2021Q1</td>\n",
       "      <td>Morning</td>\n",
       "    </tr>\n",
       "  </tbody>\n",
       "</table>\n",
       "</div>"
      ],
      "text/plain": [
       "        Date   Time  Transaction_id                  Menu  Quantity  Price  \\\n",
       "0 2021-01-02  08:38          150040              Baguette         1   0.90   \n",
       "1 2021-01-02  08:38          150040      Pain Au Chocolat         3   1.20   \n",
       "2 2021-01-02  09:14          150041      Pain Au Chocolat         2   1.20   \n",
       "3 2021-01-02  09:14          150041                  Pain         1   1.15   \n",
       "4 2021-01-02  09:25          150042  Traditional Baguette         5   1.20   \n",
       "\n",
       "   Revenue  Week_day  Day  Year    Month Quarter Day_time  \n",
       "0     0.90  Saturday    2  2021  2021-01  2021Q1  Morning  \n",
       "1     3.60  Saturday    2  2021  2021-01  2021Q1  Morning  \n",
       "2     2.40  Saturday    2  2021  2021-01  2021Q1  Morning  \n",
       "3     1.15  Saturday    2  2021  2021-01  2021Q1  Morning  \n",
       "4     6.00  Saturday    2  2021  2021-01  2021Q1  Morning  "
      ]
     },
     "execution_count": 27,
     "metadata": {},
     "output_type": "execute_result"
    }
   ],
   "source": [
    "df_raw.head()"
   ]
  },
  {
   "cell_type": "code",
   "execution_count": null,
   "id": "cfd057fc-b605-465e-bbe0-9a843278ccda",
   "metadata": {},
   "outputs": [
    {
     "data": {
      "text/plain": [
       "(231478, 13)"
      ]
     },
     "execution_count": 30,
     "metadata": {},
     "output_type": "execute_result"
    }
   ],
   "source": [
    "# Elimina valores negativos\n",
    "df_raw = df_raw.loc[~((df_raw['Quantity'] <= 0) | (df_raw['Revenue'] <= 0))].reset_index(drop = True)\n",
    "\n",
    "# Elimina outliers basado en EDA\n",
    "df_raw = df_raw.loc[~(df_raw['Revenue'] >= 100)].reset_index(drop = True)\n",
    "df_raw = df_raw.loc[~(df_raw['Quantity'] >= 100)].reset_index(drop = True)\n",
    "df_raw.shape"
   ]
  },
  {
   "cell_type": "code",
   "execution_count": null,
   "id": "f61efc59-ad9e-496d-9f7e-a3d1275744a7",
   "metadata": {},
   "outputs": [],
   "source": [
    "#Guarda archivo limpio\n",
    "df_raw.to_csv(\"./clean_data/clean_bakery_sales.csv\")"
   ]
  },
  {
   "cell_type": "code",
   "execution_count": null,
   "id": "5077cdd7",
   "metadata": {},
   "outputs": [],
   "source": [
    "# Manda los datos limpios a S3 en parquet\n",
    "\n",
    "# Credenciales de AWS\n",
    "aws_access_key_id = VAR_KEY_ID\n",
    "aws_secret_access_key = VAR_ACCESS_KEY\n",
    "\n",
    "# Set the S3 bucket name and file name\n",
    "bucket_name = 'bakery-project'\n",
    "csv_file_name = './clean_data/clean_bakery_sales.csv'\n",
    "parquet_file_name = './clean_data/clean_bakery_sales.parquet'\n",
    "\n",
    "# Read the CSV file\n",
    "df = pd.read_csv(csv_file_name)\n",
    "\n",
    "# Convert the dataframe to Parquet format\n",
    "df.to_parquet(parquet_file_name)\n",
    "\n",
    "# Create an S3 client\n",
    "s3 = boto3.client('s3', aws_access_key_id=aws_access_key_id, aws_secret_access_key=aws_secret_access_key)\n",
    "\n",
    "# Upload the Parquet file to S3\n",
    "s3.upload_file(parquet_file_name, bucket_name, 'clean_bakery_sales.parquet')"
   ]
  }
 ],
 "metadata": {
  "kernelspec": {
   "display_name": "Python 3 (ipykernel)",
   "language": "python",
   "name": "python3"
  },
  "language_info": {
   "codemirror_mode": {
    "name": "ipython",
    "version": 3
   },
   "file_extension": ".py",
   "mimetype": "text/x-python",
   "name": "python",
   "nbconvert_exporter": "python",
   "pygments_lexer": "ipython3",
   "version": "3.11.8"
  }
 },
 "nbformat": 4,
 "nbformat_minor": 5
}
